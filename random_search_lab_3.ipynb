{
  "nbformat": 4,
  "nbformat_minor": 0,
  "metadata": {
    "colab": {
      "provenance": [],
      "authorship_tag": "ABX9TyNWCf/iiaPypVV/jY/BzP5h",
      "include_colab_link": true
    },
    "kernelspec": {
      "name": "python3",
      "display_name": "Python 3"
    },
    "language_info": {
      "name": "python"
    }
  },
  "cells": [
    {
      "cell_type": "markdown",
      "metadata": {
        "id": "view-in-github",
        "colab_type": "text"
      },
      "source": [
        "<a href=\"https://colab.research.google.com/github/fawziafaraag/random_search_optimization/blob/main/random_search_lab_3.ipynb\" target=\"_parent\"><img src=\"https://colab.research.google.com/assets/colab-badge.svg\" alt=\"Open In Colab\"/></a>"
      ]
    },
    {
      "cell_type": "code",
      "execution_count": null,
      "metadata": {
        "id": "Gqcvf4ht597_"
      },
      "outputs": [],
      "source": [
        "import numpy as np\n",
        "import matplotlib.pyplot as plt\n",
        "# %matplotlib inline\n",
        "\n",
        "X=np.linspace(-5,5,2000).reshape(-1,1)\n",
        "y=lambda x: -2*x+5+np.random.rand()*0.75\n",
        "\n",
        "Y = y(X).reshape(-1,1)\n",
        "Y\n",
        "\n",
        "plt.scatter(X,Y)\n",
        "\n",
        "#classes\n",
        "class particle:\n",
        "  def __init__(self,bounds,varsize,J):\n",
        "    self.position=np.random.uniform(bounds[:,0],bounds[:,1]).reshape(varsize)\n",
        "    self.cost=J(self.position)\n",
        "    self.velocity=np.zeros(varsize)\n",
        "    self.best_cost=self.cost\n",
        "    self.best_position=self.position.copy()\n",
        "    \n",
        "  \n",
        "  def __repr__(self):\n",
        "    return f'{self.position}'\n",
        "\n",
        "class Global:\n",
        "  def __init__(self):\n",
        "    self.cost=float('inf')\n",
        "    self.position=[]\n",
        "\n",
        "#problem definition\n",
        "m=len(X)\n",
        "J = lambda x: sum(((x[0]*X + x[1])-Y) ** 2)/m\n",
        "h_l=[]\n",
        "h_x = lambda x: x[0]*X + x[1]\n",
        "nvar=2\n",
        "varsize=np.array([nvar,1])\n",
        "Varmax=[-5,-10]\n",
        "Varmin=[10,8]\n",
        "bounds=np.column_stack((Varmin,Varmax))\n",
        "\n",
        "#paramters of PSO\n",
        "w=1\n",
        "c1=2\n",
        "c2=2\n",
        "npop=50\n",
        "MaxIt=100\n",
        "damp=0.8\n",
        "\n",
        "#intialization\n",
        "particles=[None]*npop\n",
        "Globalbest=Global()\n",
        "for i in range(npop):\n",
        "  particles[i]=particle(bounds,varsize,J)\n",
        "  if (particles[i].cost<Globalbest.cost).any():\n",
        "     Globalbest.cost=particles[i].cost\n",
        "     Globalbest.position=particles[i].position\n",
        "\n",
        "#main loop\n",
        "for i in range(MaxIt):\n",
        "  for j in range(npop):\n",
        "    particles[j].velocity=damp*w*(particles[j].velocity)+np.random.rand()*c1*(particles[j].best_position -particles[j].position ) \\\n",
        "                                    + np.random.rand()* c2 * (Globalbest.position - particles[j].position )\n",
        "    particles[j].position = particles[j].position + particles[j].velocity\n",
        "    #particles[j].position=np.maximum(bounds[:,0].reshape(-1,1),particles[j].position)\n",
        "    particles[j].cost=J(particles[j].position)\n",
        "    if (particles[j].cost<particles[j].best_cost).any():\n",
        "      particles[j].best_cost=particles[j].cost\n",
        "      particles[j].best_position=particles[j].position.copy()\n",
        "      if (particles[j].cost<Globalbest.cost).any():\n",
        "        \n",
        "         Globalbest.cost=particles[j].cost\n",
        "         Globalbest.position=particles[j].position.copy()\n",
        "    h = h_x(Globalbest.position)\n",
        "    h_l.append(h)\n",
        "    \n",
        "    print(i, Globalbest.cost)\n",
        "\n",
        "plt.scatter(X,Y,label=\"y_actual\")\n",
        "for h in h_l:\n",
        "    plt.plot(X,h ,color='red')\n",
        "\n",
        "plt.plot(X,h ,color='m')\n",
        "plt.xlabel(\"X\")\n",
        "plt.ylabel(\"y\")\n",
        "plt.legend()\n",
        "plt.show()"
      ]
    }
  ]
}